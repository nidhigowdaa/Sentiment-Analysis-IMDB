{
 "cells": [
  {
   "cell_type": "code",
   "execution_count": 1,
   "metadata": {
    "colab": {
     "base_uri": "https://localhost:8080/"
    },
    "id": "8XRFUBunFt9S",
    "outputId": "e2a1c6a0-90b1-488c-eb75-3f97f56c10a1",
    "scrolled": true
   },
   "outputs": [
    {
     "name": "stdout",
     "output_type": "stream",
     "text": [
      "Requirement already satisfied: tensorflow in c:\\users\\nidhi\\anaconda3\\lib\\site-packages (2.11.0)\n",
      "Requirement already satisfied: tensorflow-intel==2.11.0 in c:\\users\\nidhi\\anaconda3\\lib\\site-packages (from tensorflow) (2.11.0)\n",
      "Requirement already satisfied: absl-py>=1.0.0 in c:\\users\\nidhi\\anaconda3\\lib\\site-packages (from tensorflow-intel==2.11.0->tensorflow) (1.4.0)\n",
      "Requirement already satisfied: setuptools in c:\\users\\nidhi\\anaconda3\\lib\\site-packages (from tensorflow-intel==2.11.0->tensorflow) (63.4.1)\n",
      "Requirement already satisfied: typing-extensions>=3.6.6 in c:\\users\\nidhi\\appdata\\roaming\\python\\python39\\site-packages (from tensorflow-intel==2.11.0->tensorflow) (4.4.0)\n",
      "Requirement already satisfied: wrapt>=1.11.0 in c:\\users\\nidhi\\anaconda3\\lib\\site-packages (from tensorflow-intel==2.11.0->tensorflow) (1.12.1)\n",
      "Requirement already satisfied: tensorboard<2.12,>=2.11 in c:\\users\\nidhi\\anaconda3\\lib\\site-packages (from tensorflow-intel==2.11.0->tensorflow) (2.11.2)\n",
      "Requirement already satisfied: packaging in c:\\users\\nidhi\\appdata\\roaming\\python\\python39\\site-packages (from tensorflow-intel==2.11.0->tensorflow) (21.3)\n",
      "Requirement already satisfied: gast<=0.4.0,>=0.2.1 in c:\\users\\nidhi\\anaconda3\\lib\\site-packages (from tensorflow-intel==2.11.0->tensorflow) (0.4.0)\n",
      "Requirement already satisfied: protobuf<3.20,>=3.9.2 in c:\\users\\nidhi\\anaconda3\\lib\\site-packages (from tensorflow-intel==2.11.0->tensorflow) (3.19.6)\n",
      "Requirement already satisfied: flatbuffers>=2.0 in c:\\users\\nidhi\\anaconda3\\lib\\site-packages (from tensorflow-intel==2.11.0->tensorflow) (23.1.21)\n",
      "Requirement already satisfied: numpy>=1.20 in c:\\users\\nidhi\\appdata\\roaming\\python\\python39\\site-packages (from tensorflow-intel==2.11.0->tensorflow) (1.23.3)\n",
      "Requirement already satisfied: grpcio<2.0,>=1.24.3 in c:\\users\\nidhi\\anaconda3\\lib\\site-packages (from tensorflow-intel==2.11.0->tensorflow) (1.42.0)\n",
      "Requirement already satisfied: keras<2.12,>=2.11.0 in c:\\users\\nidhi\\anaconda3\\lib\\site-packages (from tensorflow-intel==2.11.0->tensorflow) (2.11.0)\n",
      "Requirement already satisfied: termcolor>=1.1.0 in c:\\users\\nidhi\\anaconda3\\lib\\site-packages (from tensorflow-intel==2.11.0->tensorflow) (2.2.0)\n",
      "Requirement already satisfied: tensorflow-estimator<2.12,>=2.11.0 in c:\\users\\nidhi\\anaconda3\\lib\\site-packages (from tensorflow-intel==2.11.0->tensorflow) (2.11.0)\n",
      "Requirement already satisfied: google-pasta>=0.1.1 in c:\\users\\nidhi\\anaconda3\\lib\\site-packages (from tensorflow-intel==2.11.0->tensorflow) (0.2.0)\n",
      "Requirement already satisfied: astunparse>=1.6.0 in c:\\users\\nidhi\\anaconda3\\lib\\site-packages (from tensorflow-intel==2.11.0->tensorflow) (1.6.3)\n",
      "Requirement already satisfied: libclang>=13.0.0 in c:\\users\\nidhi\\anaconda3\\lib\\site-packages (from tensorflow-intel==2.11.0->tensorflow) (15.0.6.1)\n",
      "Requirement already satisfied: six>=1.12.0 in c:\\users\\nidhi\\appdata\\roaming\\python\\python39\\site-packages (from tensorflow-intel==2.11.0->tensorflow) (1.16.0)\n",
      "Requirement already satisfied: tensorflow-io-gcs-filesystem>=0.23.1 in c:\\users\\nidhi\\anaconda3\\lib\\site-packages (from tensorflow-intel==2.11.0->tensorflow) (0.30.0)\n",
      "Requirement already satisfied: h5py>=2.9.0 in c:\\users\\nidhi\\anaconda3\\lib\\site-packages (from tensorflow-intel==2.11.0->tensorflow) (3.7.0)\n",
      "Requirement already satisfied: opt-einsum>=2.3.2 in c:\\users\\nidhi\\anaconda3\\lib\\site-packages (from tensorflow-intel==2.11.0->tensorflow) (3.3.0)\n",
      "Requirement already satisfied: wheel<1.0,>=0.23.0 in c:\\users\\nidhi\\anaconda3\\lib\\site-packages (from astunparse>=1.6.0->tensorflow-intel==2.11.0->tensorflow) (0.37.1)\n",
      "Requirement already satisfied: tensorboard-data-server<0.7.0,>=0.6.0 in c:\\users\\nidhi\\anaconda3\\lib\\site-packages (from tensorboard<2.12,>=2.11->tensorflow-intel==2.11.0->tensorflow) (0.6.1)\n",
      "Requirement already satisfied: requests<3,>=2.21.0 in c:\\users\\nidhi\\appdata\\roaming\\python\\python39\\site-packages (from tensorboard<2.12,>=2.11->tensorflow-intel==2.11.0->tensorflow) (2.28.1)\n",
      "Requirement already satisfied: google-auth<3,>=1.6.3 in c:\\users\\nidhi\\anaconda3\\lib\\site-packages (from tensorboard<2.12,>=2.11->tensorflow-intel==2.11.0->tensorflow) (2.6.0)\n",
      "Requirement already satisfied: google-auth-oauthlib<0.5,>=0.4.1 in c:\\users\\nidhi\\anaconda3\\lib\\site-packages (from tensorboard<2.12,>=2.11->tensorflow-intel==2.11.0->tensorflow) (0.4.6)\n",
      "Requirement already satisfied: werkzeug>=1.0.1 in c:\\users\\nidhi\\anaconda3\\lib\\site-packages (from tensorboard<2.12,>=2.11->tensorflow-intel==2.11.0->tensorflow) (2.0.3)\n",
      "Requirement already satisfied: tensorboard-plugin-wit>=1.6.0 in c:\\users\\nidhi\\anaconda3\\lib\\site-packages (from tensorboard<2.12,>=2.11->tensorflow-intel==2.11.0->tensorflow) (1.8.1)\n",
      "Requirement already satisfied: markdown>=2.6.8 in c:\\users\\nidhi\\anaconda3\\lib\\site-packages (from tensorboard<2.12,>=2.11->tensorflow-intel==2.11.0->tensorflow) (3.3.4)\n",
      "Requirement already satisfied: pyparsing!=3.0.5,>=2.0.2 in c:\\users\\nidhi\\appdata\\roaming\\python\\python39\\site-packages (from packaging->tensorflow-intel==2.11.0->tensorflow) (3.0.9)\n",
      "Requirement already satisfied: pyasn1-modules>=0.2.1 in c:\\users\\nidhi\\anaconda3\\lib\\site-packages (from google-auth<3,>=1.6.3->tensorboard<2.12,>=2.11->tensorflow-intel==2.11.0->tensorflow) (0.2.8)\n",
      "Requirement already satisfied: rsa<5,>=3.1.4 in c:\\users\\nidhi\\anaconda3\\lib\\site-packages (from google-auth<3,>=1.6.3->tensorboard<2.12,>=2.11->tensorflow-intel==2.11.0->tensorflow) (4.7.2)\n",
      "Requirement already satisfied: cachetools<6.0,>=2.0.0 in c:\\users\\nidhi\\appdata\\roaming\\python\\python39\\site-packages (from google-auth<3,>=1.6.3->tensorboard<2.12,>=2.11->tensorflow-intel==2.11.0->tensorflow) (5.2.0)\n",
      "Requirement already satisfied: requests-oauthlib>=0.7.0 in c:\\users\\nidhi\\anaconda3\\lib\\site-packages (from google-auth-oauthlib<0.5,>=0.4.1->tensorboard<2.12,>=2.11->tensorflow-intel==2.11.0->tensorflow) (1.3.1)\n",
      "Requirement already satisfied: idna<4,>=2.5 in c:\\users\\nidhi\\appdata\\roaming\\python\\python39\\site-packages (from requests<3,>=2.21.0->tensorboard<2.12,>=2.11->tensorflow-intel==2.11.0->tensorflow) (3.4)\n",
      "Requirement already satisfied: urllib3<1.27,>=1.21.1 in c:\\users\\nidhi\\appdata\\roaming\\python\\python39\\site-packages (from requests<3,>=2.21.0->tensorboard<2.12,>=2.11->tensorflow-intel==2.11.0->tensorflow) (1.26.12)\n",
      "Requirement already satisfied: charset-normalizer<3,>=2 in c:\\users\\nidhi\\appdata\\roaming\\python\\python39\\site-packages (from requests<3,>=2.21.0->tensorboard<2.12,>=2.11->tensorflow-intel==2.11.0->tensorflow) (2.1.1)\n",
      "Requirement already satisfied: certifi>=2017.4.17 in c:\\users\\nidhi\\appdata\\roaming\\python\\python39\\site-packages (from requests<3,>=2.21.0->tensorboard<2.12,>=2.11->tensorflow-intel==2.11.0->tensorflow) (2022.9.24)\n",
      "Requirement already satisfied: pyasn1<0.5.0,>=0.4.6 in c:\\users\\nidhi\\anaconda3\\lib\\site-packages (from pyasn1-modules>=0.2.1->google-auth<3,>=1.6.3->tensorboard<2.12,>=2.11->tensorflow-intel==2.11.0->tensorflow) (0.4.8)\n",
      "Requirement already satisfied: oauthlib>=3.0.0 in c:\\users\\nidhi\\anaconda3\\lib\\site-packages (from requests-oauthlib>=0.7.0->google-auth-oauthlib<0.5,>=0.4.1->tensorboard<2.12,>=2.11->tensorflow-intel==2.11.0->tensorflow) (3.2.2)\n"
     ]
    },
    {
     "name": "stderr",
     "output_type": "stream",
     "text": [
      "WARNING: Ignoring invalid distribution -treamlit (c:\\users\\nidhi\\anaconda3\\lib\\site-packages)\n",
      "WARNING: Ignoring invalid distribution -rotobuf (c:\\users\\nidhi\\anaconda3\\lib\\site-packages)\n",
      "WARNING: Ignoring invalid distribution -treamlit (c:\\users\\nidhi\\anaconda3\\lib\\site-packages)\n",
      "WARNING: Ignoring invalid distribution -rotobuf (c:\\users\\nidhi\\anaconda3\\lib\\site-packages)\n",
      "WARNING: Ignoring invalid distribution -treamlit (c:\\users\\nidhi\\anaconda3\\lib\\site-packages)\n",
      "WARNING: Ignoring invalid distribution -rotobuf (c:\\users\\nidhi\\anaconda3\\lib\\site-packages)\n",
      "WARNING: Ignoring invalid distribution -treamlit (c:\\users\\nidhi\\anaconda3\\lib\\site-packages)\n",
      "WARNING: Ignoring invalid distribution -rotobuf (c:\\users\\nidhi\\anaconda3\\lib\\site-packages)\n",
      "WARNING: Ignoring invalid distribution -treamlit (c:\\users\\nidhi\\anaconda3\\lib\\site-packages)\n",
      "WARNING: Ignoring invalid distribution -rotobuf (c:\\users\\nidhi\\anaconda3\\lib\\site-packages)\n",
      "WARNING: Ignoring invalid distribution -treamlit (c:\\users\\nidhi\\anaconda3\\lib\\site-packages)\n",
      "WARNING: Ignoring invalid distribution -rotobuf (c:\\users\\nidhi\\anaconda3\\lib\\site-packages)\n",
      "[nltk_data] Downloading package punkt to\n",
      "[nltk_data]     C:\\Users\\nidhi\\AppData\\Roaming\\nltk_data...\n",
      "[nltk_data]   Package punkt is already up-to-date!\n"
     ]
    }
   ],
   "source": [
    "import os\n",
    "import pandas as pd\n",
    "import numpy as np\n",
    "\n",
    "#tensorflow modules\n",
    "!pip install tensorflow\n",
    "from tensorflow.keras.preprocessing.text import Tokenizer\n",
    "from tensorflow.keras.layers import Embedding, Dense, SimpleRNN, LSTM, Dropout, BatchNormalization, Flatten\n",
    "from tensorflow.keras.models import Sequential \n",
    "\n",
    "#text preprocessing modules\n",
    "from gensim.parsing.preprocessing import remove_stopwords\n",
    "from gensim.models import Word2Vec\n",
    "import re\n",
    "import nltk\n",
    "nltk.download('punkt')\n",
    "\n",
    "import warnings\n",
    "# Ignore all warnings\n",
    "warnings.filterwarnings(\"ignore\")"
   ]
  },
  {
   "cell_type": "code",
   "execution_count": 2,
   "metadata": {
    "id": "6tsPEu1lIB2V"
   },
   "outputs": [],
   "source": [
    "df=pd.read_csv('IMDB Dataset.csv')"
   ]
  },
  {
   "cell_type": "code",
   "execution_count": 3,
   "metadata": {
    "colab": {
     "base_uri": "https://localhost:8080/",
     "height": 206
    },
    "id": "MvbB5zvDIB5I",
    "outputId": "c8fcc6ff-a17a-401b-bd49-e8ca802a40f8"
   },
   "outputs": [
    {
     "data": {
      "text/html": [
       "<div>\n",
       "<style scoped>\n",
       "    .dataframe tbody tr th:only-of-type {\n",
       "        vertical-align: middle;\n",
       "    }\n",
       "\n",
       "    .dataframe tbody tr th {\n",
       "        vertical-align: top;\n",
       "    }\n",
       "\n",
       "    .dataframe thead th {\n",
       "        text-align: right;\n",
       "    }\n",
       "</style>\n",
       "<table border=\"1\" class=\"dataframe\">\n",
       "  <thead>\n",
       "    <tr style=\"text-align: right;\">\n",
       "      <th></th>\n",
       "      <th>review</th>\n",
       "      <th>sentiment</th>\n",
       "    </tr>\n",
       "  </thead>\n",
       "  <tbody>\n",
       "    <tr>\n",
       "      <th>0</th>\n",
       "      <td>One of the other reviewers has mentioned that ...</td>\n",
       "      <td>positive</td>\n",
       "    </tr>\n",
       "    <tr>\n",
       "      <th>1</th>\n",
       "      <td>A wonderful little production. &lt;br /&gt;&lt;br /&gt;The...</td>\n",
       "      <td>positive</td>\n",
       "    </tr>\n",
       "    <tr>\n",
       "      <th>2</th>\n",
       "      <td>I thought this was a wonderful way to spend ti...</td>\n",
       "      <td>positive</td>\n",
       "    </tr>\n",
       "    <tr>\n",
       "      <th>3</th>\n",
       "      <td>Basically there's a family where a little boy ...</td>\n",
       "      <td>negative</td>\n",
       "    </tr>\n",
       "    <tr>\n",
       "      <th>4</th>\n",
       "      <td>Petter Mattei's \"Love in the Time of Money\" is...</td>\n",
       "      <td>positive</td>\n",
       "    </tr>\n",
       "  </tbody>\n",
       "</table>\n",
       "</div>"
      ],
      "text/plain": [
       "                                              review sentiment\n",
       "0  One of the other reviewers has mentioned that ...  positive\n",
       "1  A wonderful little production. <br /><br />The...  positive\n",
       "2  I thought this was a wonderful way to spend ti...  positive\n",
       "3  Basically there's a family where a little boy ...  negative\n",
       "4  Petter Mattei's \"Love in the Time of Money\" is...  positive"
      ]
     },
     "execution_count": 3,
     "metadata": {},
     "output_type": "execute_result"
    }
   ],
   "source": [
    "df.head()"
   ]
  },
  {
   "cell_type": "code",
   "execution_count": 4,
   "metadata": {},
   "outputs": [
    {
     "data": {
      "text/plain": [
       "(50000, 2)"
      ]
     },
     "execution_count": 4,
     "metadata": {},
     "output_type": "execute_result"
    }
   ],
   "source": [
    "df.shape"
   ]
  },
  {
   "cell_type": "code",
   "execution_count": 5,
   "metadata": {},
   "outputs": [
    {
     "data": {
      "text/plain": [
       "\"One of the other reviewers has mentioned that after watching just 1 Oz episode you'll be hooked. They are right, as this is exactly what happened with me.<br /><br />The first thing that struck me about Oz was its brutality and unflinching scenes of violence, which set in right from the word GO. Trust me, this is not a show for the faint hearted or timid. This show pulls no punches with regards to drugs, sex or violence. Its is hardcore, in the classic use of the word.<br /><br />It is called OZ as that is the nickname given to the Oswald Maximum Security State Penitentary. It focuses mainly on Emerald City, an experimental section of the prison where all the cells have glass fronts and face inwards, so privacy is not high on the agenda. Em City is home to many..Aryans, Muslims, gangstas, Latinos, Christians, Italians, Irish and more....so scuffles, death stares, dodgy dealings and shady agreements are never far away.<br /><br />I would say the main appeal of the show is due to the fact that it goes where other shows wouldn't dare. Forget pretty pictures painted for mainstream audiences, forget charm, forget romance...OZ doesn't mess around. The first episode I ever saw struck me as so nasty it was surreal, I couldn't say I was ready for it, but as I watched more, I developed a taste for Oz, and got accustomed to the high levels of graphic violence. Not just violence, but injustice (crooked guards who'll be sold out for a nickel, inmates who'll kill on order and get away with it, well mannered, middle class inmates being turned into prison bitches due to their lack of street skills or prison experience) Watching Oz, you may become comfortable with what is uncomfortable viewing....thats if you can get in touch with your darker side.\""
      ]
     },
     "execution_count": 5,
     "metadata": {},
     "output_type": "execute_result"
    }
   ],
   "source": [
    "df['review'][0]"
   ]
  },
  {
   "cell_type": "code",
   "execution_count": 6,
   "metadata": {},
   "outputs": [],
   "source": [
    "#text cleaning\n",
    " #remove html tags\n",
    "cleaned=[]\n",
    "for r in df['review']:\n",
    "    r=re.sub(r'<.*?>',\"\",r)\n",
    "    r=re.sub(r'\\S+@\\S+\\s','',r)\n",
    "    r=re.sub(r'\\d+','',r)\n",
    "    r=re.sub(r'[#$!\\*\\)\\(\\\\%:;,\\'_-]','',r)\n",
    "    cleaned.append(r)"
   ]
  },
  {
   "cell_type": "code",
   "execution_count": 7,
   "metadata": {},
   "outputs": [
    {
     "data": {
      "text/plain": [
       "['One of the other reviewers has mentioned that after watching just  Oz episode youll be hooked. They are right as this is exactly what happened with me.The first thing that struck me about Oz was its brutality and unflinching scenes of violence which set in right from the word GO. Trust me this is not a show for the faint hearted or timid. This show pulls no punches with regards to drugs sex or violence. Its is hardcore in the classic use of the word.It is called OZ as that is the nickname given to the Oswald Maximum Security State Penitentary. It focuses mainly on Emerald City an experimental section of the prison where all the cells have glass fronts and face inwards so privacy is not high on the agenda. Em City is home to many..Aryans Muslims gangstas Latinos Christians Italians Irish and more....so scuffles death stares dodgy dealings and shady agreements are never far away.I would say the main appeal of the show is due to the fact that it goes where other shows wouldnt dare. Forget pretty pictures painted for mainstream audiences forget charm forget romance...OZ doesnt mess around. The first episode I ever saw struck me as so nasty it was surreal I couldnt say I was ready for it but as I watched more I developed a taste for Oz and got accustomed to the high levels of graphic violence. Not just violence but injustice crooked guards wholl be sold out for a nickel inmates wholl kill on order and get away with it well mannered middle class inmates being turned into prison bitches due to their lack of street skills or prison experience Watching Oz you may become comfortable with what is uncomfortable viewing....thats if you can get in touch with your darker side.',\n",
       " 'A wonderful little production. The filming technique is very unassuming very oldtimeBBC fashion and gives a comforting and sometimes discomforting sense of realism to the entire piece. The actors are extremely well chosen Michael Sheen not only \"has got all the polari\" but he has all the voices down pat too You can truly see the seamless editing guided by the references to Williams diary entries not only is it well worth the watching but it is a terrificly written and performed piece. A masterful production about one of the great masters of comedy and his life. The realism really comes home with the little things the fantasy of the guard which rather than use the traditional dream techniques remains solid then disappears. It plays on our knowledge and our senses particularly with the scenes concerning Orton and Halliwell and the sets particularly of their flat with Halliwells murals decorating every surface are terribly well done.',\n",
       " 'I thought this was a wonderful way to spend time on a too hot summer weekend sitting in the air conditioned theater and watching a lighthearted comedy. The plot is simplistic but the dialogue is witty and the characters are likable even the well bread suspected serial killer. While some may be disappointed when they realize this is not Match Point  Risk Addiction I thought it was proof that Woody Allen is still fully in control of the style many of us have grown to love.This was the most Id laughed at one of Woodys comedies in years dare I say a decade?. While Ive never been impressed with Scarlet Johanson in this she managed to tone down her \"sexy\" image and jumped right into a average but spirited young woman.This may not be the crown jewel of his career but it was wittier than \"Devil Wears Prada\" and more interesting than \"Superman\" a great comedy to go see with friends.']"
      ]
     },
     "execution_count": 7,
     "metadata": {},
     "output_type": "execute_result"
    }
   ],
   "source": [
    "cleaned[0:3]  "
   ]
  },
  {
   "cell_type": "code",
   "execution_count": 8,
   "metadata": {},
   "outputs": [
    {
     "data": {
      "text/plain": [
       "50000"
      ]
     },
     "execution_count": 8,
     "metadata": {},
     "output_type": "execute_result"
    }
   ],
   "source": [
    "len(cleaned)"
   ]
  },
  {
   "cell_type": "code",
   "execution_count": 9,
   "metadata": {
    "id": "KFWyTDviIB8j"
   },
   "outputs": [],
   "source": [
    "#removing stop words using gensim library function\n",
    "text = [remove_stopwords(sentence) for sentence in cleaned]"
   ]
  },
  {
   "cell_type": "code",
   "execution_count": 11,
   "metadata": {
    "colab": {
     "base_uri": "https://localhost:8080/"
    },
    "id": "uVcZN1SrKI37",
    "outputId": "a03adc07-e782-4d04-e4c8-45ae55595050"
   },
   "outputs": [
    {
     "data": {
      "text/plain": [
       "['One reviewers mentioned watching Oz episode youll hooked. They right exactly happened me.The thing struck Oz brutality unflinching scenes violence set right word GO. Trust faint hearted timid. This pulls punches regards drugs sex violence. Its hardcore classic use word.It called OZ nickname given Oswald Maximum Security State Penitentary. It focuses mainly Emerald City experimental section prison cells glass fronts face inwards privacy high agenda. Em City home many..Aryans Muslims gangstas Latinos Christians Italians Irish more....so scuffles death stares dodgy dealings shady agreements far away.I main appeal fact goes shows wouldnt dare. Forget pretty pictures painted mainstream audiences forget charm forget romance...OZ doesnt mess around. The episode I saw struck nasty surreal I I ready I watched I developed taste Oz got accustomed high levels graphic violence. Not violence injustice crooked guards wholl sold nickel inmates wholl kill order away mannered middle class inmates turned prison bitches lack street skills prison experience Watching Oz comfortable uncomfortable viewing....thats touch darker side.',\n",
       " 'A wonderful little production. The filming technique unassuming oldtimeBBC fashion gives comforting discomforting sense realism entire piece. The actors extremely chosen Michael Sheen \"has got polari\" voices pat You truly seamless editing guided references Williams diary entries worth watching terrificly written performed piece. A masterful production great masters comedy life. The realism comes home little things fantasy guard use traditional dream techniques remains solid disappears. It plays knowledge senses particularly scenes concerning Orton Halliwell sets particularly flat Halliwells murals decorating surface terribly done.',\n",
       " 'I thought wonderful way spend time hot summer weekend sitting air conditioned theater watching lighthearted comedy. The plot simplistic dialogue witty characters likable bread suspected serial killer. While disappointed realize Match Point Risk Addiction I thought proof Woody Allen fully control style grown love.This Id laughed Woodys comedies years dare I decade?. While Ive impressed Scarlet Johanson managed tone \"sexy\" image jumped right average spirited young woman.This crown jewel career wittier \"Devil Wears Prada\" interesting \"Superman\" great comedy friends.']"
      ]
     },
     "execution_count": 11,
     "metadata": {},
     "output_type": "execute_result"
    }
   ],
   "source": [
    "text[0:3]"
   ]
  },
  {
   "cell_type": "code",
   "execution_count": 12,
   "metadata": {},
   "outputs": [
    {
     "data": {
      "text/plain": [
       "1126"
      ]
     },
     "execution_count": 12,
     "metadata": {},
     "output_type": "execute_result"
    }
   ],
   "source": [
    "len(text[0])"
   ]
  },
  {
   "cell_type": "code",
   "execution_count": 13,
   "metadata": {
    "id": "Yw_jKZSxNY8R"
   },
   "outputs": [],
   "source": [
    "#tokenisation\n",
    "tokenizer = Tokenizer(num_words=8000, lower=True, oov_token='<OOV>')"
   ]
  },
  {
   "cell_type": "code",
   "execution_count": 14,
   "metadata": {
    "colab": {
     "base_uri": "https://localhost:8080/"
    },
    "id": "-2oBIztdO9g9",
    "outputId": "2ca9668d-aa59-4d75-fbe4-17d0bd156ecf"
   },
   "outputs": [
    {
     "name": "stdout",
     "output_type": "stream",
     "text": [
      "50000 45000 5000\n"
     ]
    }
   ],
   "source": [
    "#before applying tokenizer, split data\n",
    "train_text = text[:len(text)-5000]\n",
    "test_text=text[-5000:]\n",
    "print(len(text), len(train_text), len(test_text))"
   ]
  },
  {
   "cell_type": "code",
   "execution_count": 15,
   "metadata": {
    "id": "2bxaYHNPPlbr"
   },
   "outputs": [],
   "source": [
    "tokenizer.fit_on_texts(train_text)"
   ]
  },
  {
   "cell_type": "code",
   "execution_count": 16,
   "metadata": {
    "colab": {
     "base_uri": "https://localhost:8080/"
    },
    "id": "Yu94HgKRQYaa",
    "outputId": "c5fe1ff2-f361-4420-c9e0-3891af86f56a"
   },
   "outputs": [
    {
     "data": {
      "text/plain": [
       "{'<OOV>': 1,\n",
       " 'i': 2,\n",
       " 'the': 3,\n",
       " 'movie': 4,\n",
       " 'film': 5,\n",
       " 'it': 6,\n",
       " 'like': 7,\n",
       " 'this': 8,\n",
       " 'good': 9,\n",
       " 'time': 10,\n",
       " 'story': 11,\n",
       " 'bad': 12,\n",
       " 'great': 13,\n",
       " 'people': 14,\n",
       " 'dont': 15,\n",
       " 'movies': 16,\n",
       " 'and': 17,\n",
       " 'films': 18,\n",
       " 'way': 19,\n",
       " 'but': 20,\n",
       " 'characters': 21,\n",
       " 'think': 22,\n",
       " 'watch': 23,\n",
       " 'its': 24,\n",
       " 'in': 25,\n",
       " 'a': 26,\n",
       " 'seen': 27,\n",
       " 'character': 28,\n",
       " 'love': 29,\n",
       " 'plot': 30,\n",
       " 'acting': 31,\n",
       " 'best': 32,\n",
       " 'know': 33,\n",
       " 'little': 34,\n",
       " 'life': 35,\n",
       " 'there': 36,\n",
       " 'better': 37,\n",
       " 'if': 38,\n",
       " 'end': 39,\n",
       " 'scene': 40,\n",
       " 'man': 41,\n",
       " 'scenes': 42,\n",
       " 's': 43,\n",
       " 'he': 44,\n",
       " 'im': 45,\n",
       " 'real': 46,\n",
       " 'watching': 47,\n",
       " 'thing': 48,\n",
       " 'actors': 49,\n",
       " 'doesnt': 50,\n",
       " 'didnt': 51,\n",
       " 'years': 52,\n",
       " 'funny': 53,\n",
       " 'actually': 54,\n",
       " 'makes': 55,\n",
       " 'work': 56,\n",
       " 'look': 57,\n",
       " 'director': 58,\n",
       " 'going': 59,\n",
       " 'one': 60,\n",
       " 'lot': 61,\n",
       " 'you': 62,\n",
       " 'new': 63,\n",
       " 'old': 64,\n",
       " 'thats': 65,\n",
       " 'things': 66,\n",
       " 'want': 67,\n",
       " 'cast': 68,\n",
       " 'pretty': 69,\n",
       " 'all': 70,\n",
       " 'world': 71,\n",
       " 'young': 72,\n",
       " 'horror': 73,\n",
       " 'got': 74,\n",
       " 'fact': 75,\n",
       " 'what': 76,\n",
       " 'that': 77,\n",
       " 'as': 78,\n",
       " 'big': 79,\n",
       " 'thought': 80,\n",
       " 'ive': 81,\n",
       " 'not': 82,\n",
       " 'so': 83,\n",
       " 'right': 84,\n",
       " 'long': 85,\n",
       " 'comedy': 86,\n",
       " 'music': 87,\n",
       " 'they': 88,\n",
       " 'isnt': 89,\n",
       " 'times': 90,\n",
       " 'well': 91,\n",
       " 'original': 92,\n",
       " 'saw': 93,\n",
       " 'come': 94,\n",
       " 'gets': 95,\n",
       " 'action': 96,\n",
       " 'series': 97,\n",
       " 'role': 98,\n",
       " 'interesting': 99,\n",
       " 'guy': 100,\n",
       " 'theres': 101,\n",
       " 'point': 102,\n",
       " 'bit': 103,\n",
       " 'minutes': 104,\n",
       " 'script': 105,\n",
       " 'far': 106,\n",
       " 'hes': 107,\n",
       " 'feel': 108,\n",
       " 'family': 109,\n",
       " 'probably': 110,\n",
       " 'performance': 111,\n",
       " 'kind': 112,\n",
       " 'away': 113,\n",
       " 'worst': 114,\n",
       " 'fun': 115,\n",
       " 'sure': 116,\n",
       " 'tv': 117,\n",
       " 'for': 118,\n",
       " 'girl': 119,\n",
       " 'played': 120,\n",
       " 'making': 121,\n",
       " 'woman': 122,\n",
       " 'having': 123,\n",
       " 'believe': 124,\n",
       " 'when': 125,\n",
       " 'trying': 126,\n",
       " 'she': 127,\n",
       " 'shows': 128,\n",
       " 'course': 129,\n",
       " 'especially': 130,\n",
       " 'day': 131,\n",
       " 'hard': 132,\n",
       " 'goes': 133,\n",
       " 'dvd': 134,\n",
       " 'comes': 135,\n",
       " 'maybe': 136,\n",
       " 'ending': 137,\n",
       " 'different': 138,\n",
       " 'place': 139,\n",
       " 'worth': 140,\n",
       " 'looking': 141,\n",
       " 'book': 142,\n",
       " 'main': 143,\n",
       " 'screen': 144,\n",
       " 'sense': 145,\n",
       " 'watched': 146,\n",
       " 'reason': 147,\n",
       " 'wasnt': 148,\n",
       " 'looks': 149,\n",
       " 'set': 150,\n",
       " 'job': 151,\n",
       " 'play': 152,\n",
       " 'money': 153,\n",
       " 'effects': 154,\n",
       " 'actor': 155,\n",
       " 'true': 156,\n",
       " 'is': 157,\n",
       " 'plays': 158,\n",
       " 'to': 159,\n",
       " 'later': 160,\n",
       " 'on': 161,\n",
       " 'my': 162,\n",
       " 'said': 163,\n",
       " 'instead': 164,\n",
       " 'american': 165,\n",
       " 'takes': 166,\n",
       " 'beautiful': 167,\n",
       " 'audience': 168,\n",
       " 'of': 169,\n",
       " 'special': 170,\n",
       " 'seeing': 171,\n",
       " 'john': 172,\n",
       " 'war': 173,\n",
       " 'left': 174,\n",
       " 'no': 175,\n",
       " 'version': 176,\n",
       " 'idea': 177,\n",
       " 'excellent': 178,\n",
       " 'night': 179,\n",
       " 'however': 180,\n",
       " 'shot': 181,\n",
       " 'black': 182,\n",
       " 'simply': 183,\n",
       " 'fan': 184,\n",
       " 'house': 185,\n",
       " 'youre': 186,\n",
       " 'nice': 187,\n",
       " 'high': 188,\n",
       " 'we': 189,\n",
       " 'completely': 190,\n",
       " 'death': 191,\n",
       " 'wife': 192,\n",
       " 'poor': 193,\n",
       " 'read': 194,\n",
       " 'kids': 195,\n",
       " 'friends': 196,\n",
       " 'year': 197,\n",
       " 'short': 198,\n",
       " 'help': 199,\n",
       " 'mind': 200,\n",
       " 'at': 201,\n",
       " 'me': 202,\n",
       " 'boring': 203,\n",
       " 'second': 204,\n",
       " 'home': 205,\n",
       " 'star': 206,\n",
       " 'men': 207,\n",
       " 'half': 208,\n",
       " 'now': 209,\n",
       " 'try': 210,\n",
       " 'use': 211,\n",
       " 'enjoy': 212,\n",
       " 'classic': 213,\n",
       " 'wrong': 214,\n",
       " 'given': 215,\n",
       " 'need': 216,\n",
       " 'stupid': 217,\n",
       " 'performances': 218,\n",
       " 'rest': 219,\n",
       " 'dead': 220,\n",
       " 'production': 221,\n",
       " 'father': 222,\n",
       " 'truly': 223,\n",
       " 'hollywood': 224,\n",
       " 'her': 225,\n",
       " 'couple': 226,\n",
       " 'line': 227,\n",
       " 'them': 228,\n",
       " 'with': 229,\n",
       " 'recommend': 230,\n",
       " 'women': 231,\n",
       " 'here': 232,\n",
       " 'tell': 233,\n",
       " 'start': 234,\n",
       " 'after': 235,\n",
       " 'why': 236,\n",
       " 'came': 237,\n",
       " 'awful': 238,\n",
       " 'let': 239,\n",
       " 'getting': 240,\n",
       " 'remember': 241,\n",
       " 'understand': 242,\n",
       " 'terrible': 243,\n",
       " 'moments': 244,\n",
       " 'camera': 245,\n",
       " 'then': 246,\n",
       " 'school': 247,\n",
       " 'sex': 248,\n",
       " 'him': 249,\n",
       " 'even': 250,\n",
       " 'playing': 251,\n",
       " 'mean': 252,\n",
       " 'video': 253,\n",
       " 'wonderful': 254,\n",
       " 'budget': 255,\n",
       " 'episode': 256,\n",
       " 'definitely': 257,\n",
       " 'human': 258,\n",
       " 'face': 259,\n",
       " 'small': 260,\n",
       " 'perfect': 261,\n",
       " 'gives': 262,\n",
       " 'guys': 263,\n",
       " 'early': 264,\n",
       " 'person': 265,\n",
       " 'dialogue': 266,\n",
       " 'lines': 267,\n",
       " 'piece': 268,\n",
       " 'his': 269,\n",
       " 'went': 270,\n",
       " 'absolutely': 271,\n",
       " 'stars': 272,\n",
       " 'finally': 273,\n",
       " 'case': 274,\n",
       " 'while': 275,\n",
       " 'head': 276,\n",
       " 'title': 277,\n",
       " 'certainly': 278,\n",
       " 'yes': 279,\n",
       " 'also': 280,\n",
       " 'liked': 281,\n",
       " 'entertaining': 282,\n",
       " 'worse': 283,\n",
       " 'lost': 284,\n",
       " 'mother': 285,\n",
       " 'picture': 286,\n",
       " 'overall': 287,\n",
       " 'hope': 288,\n",
       " 'sort': 289,\n",
       " 'style': 290,\n",
       " 'mr': 291,\n",
       " 'loved': 292,\n",
       " 'live': 293,\n",
       " 'felt': 294,\n",
       " 'supposed': 295,\n",
       " 'written': 296,\n",
       " 'entire': 297,\n",
       " 'oh': 298,\n",
       " 'laugh': 299,\n",
       " 'cinema': 300,\n",
       " 'boy': 301,\n",
       " 'problem': 302,\n",
       " 'friend': 303,\n",
       " 'waste': 304,\n",
       " 'beginning': 305,\n",
       " 'based': 306,\n",
       " 'fans': 307,\n",
       " 'sound': 308,\n",
       " 'totally': 309,\n",
       " 'some': 310,\n",
       " 'care': 311,\n",
       " 'shes': 312,\n",
       " 'out': 313,\n",
       " 'dark': 314,\n",
       " 'wanted': 315,\n",
       " 'game': 316,\n",
       " 'drama': 317,\n",
       " 'final': 318,\n",
       " 'humor': 319,\n",
       " 'children': 320,\n",
       " 'youll': 321,\n",
       " 'evil': 322,\n",
       " 'lives': 323,\n",
       " 'example': 324,\n",
       " 'id': 325,\n",
       " 'despite': 326,\n",
       " 'direction': 327,\n",
       " 'lead': 328,\n",
       " 'guess': 329,\n",
       " 'days': 330,\n",
       " 'again': 331,\n",
       " 'wont': 332,\n",
       " 'how': 333,\n",
       " 'unfortunately': 334,\n",
       " 'white': 335,\n",
       " 'called': 336,\n",
       " 'low': 337,\n",
       " 'able': 338,\n",
       " 'turn': 339,\n",
       " 'girls': 340,\n",
       " 'history': 341,\n",
       " 'too': 342,\n",
       " 'wants': 343,\n",
       " 'do': 344,\n",
       " 'fine': 345,\n",
       " 'quality': 346,\n",
       " 'amazing': 347,\n",
       " 'writing': 348,\n",
       " 'horrible': 349,\n",
       " 'theyre': 350,\n",
       " 'act': 351,\n",
       " 'killer': 352,\n",
       " 'flick': 353,\n",
       " 'just': 354,\n",
       " '\\x96': 355,\n",
       " 'past': 356,\n",
       " 'turns': 357,\n",
       " 'works': 358,\n",
       " 'tries': 359,\n",
       " 'kill': 360,\n",
       " 'michael': 361,\n",
       " 'gave': 362,\n",
       " 'son': 363,\n",
       " 'enjoyed': 364,\n",
       " 'brilliant': 365,\n",
       " 'favorite': 366,\n",
       " 'eyes': 367,\n",
       " 'parts': 368,\n",
       " 'matter': 369,\n",
       " 'expect': 370,\n",
       " 'ones': 371,\n",
       " 'town': 372,\n",
       " 'stuff': 373,\n",
       " 'car': 374,\n",
       " 'obviously': 375,\n",
       " 'run': 376,\n",
       " 'heart': 377,\n",
       " 'directed': 378,\n",
       " 'starts': 379,\n",
       " 'soon': 380,\n",
       " 'killed': 381,\n",
       " 'viewer': 382,\n",
       " 'thinking': 383,\n",
       " 'actress': 384,\n",
       " 'first': 385,\n",
       " 'genre': 386,\n",
       " 'decent': 387,\n",
       " 'art': 388,\n",
       " 'says': 389,\n",
       " 'city': 390,\n",
       " 'late': 391,\n",
       " 'group': 392,\n",
       " 'heard': 393,\n",
       " 'ill': 394,\n",
       " 'feeling': 395,\n",
       " 'highly': 396,\n",
       " 'from': 397,\n",
       " 'hell': 398,\n",
       " 'happens': 399,\n",
       " 'took': 400,\n",
       " 'experience': 401,\n",
       " 'child': 402,\n",
       " 'kid': 403,\n",
       " 'hour': 404,\n",
       " 'fight': 405,\n",
       " 'moment': 406,\n",
       " 'close': 407,\n",
       " 'extremely': 408,\n",
       " 'blood': 409,\n",
       " 'show': 410,\n",
       " 'stories': 411,\n",
       " 'coming': 412,\n",
       " 'police': 413,\n",
       " 'lack': 414,\n",
       " 'leave': 415,\n",
       " 'told': 416,\n",
       " 'wouldnt': 417,\n",
       " 'daughter': 418,\n",
       " 'happen': 419,\n",
       " 'strong': 420,\n",
       " 'hilarious': 421,\n",
       " 'type': 422,\n",
       " 'roles': 423,\n",
       " 'involved': 424,\n",
       " 'god': 425,\n",
       " 'chance': 426,\n",
       " 'hand': 427,\n",
       " 'wonder': 428,\n",
       " 'score': 429,\n",
       " 'save': 430,\n",
       " 'ok': 431,\n",
       " 'living': 432,\n",
       " 'stop': 433,\n",
       " 'violence': 434,\n",
       " 'murder': 435,\n",
       " 'happened': 436,\n",
       " 'looked': 437,\n",
       " 'including': 438,\n",
       " 'particularly': 439,\n",
       " 'attempt': 440,\n",
       " 'james': 441,\n",
       " 'simple': 442,\n",
       " 'obvious': 443,\n",
       " 'complete': 444,\n",
       " 'ago': 445,\n",
       " 'taken': 446,\n",
       " 'voice': 447,\n",
       " 'shown': 448,\n",
       " 'cool': 449,\n",
       " 'song': 450,\n",
       " 'robert': 451,\n",
       " 'up': 452,\n",
       " 'david': 453,\n",
       " 'released': 454,\n",
       " 'lets': 455,\n",
       " 'crap': 456,\n",
       " 'today': 457,\n",
       " 'reality': 458,\n",
       " 'seriously': 459,\n",
       " 'exactly': 460,\n",
       " 'jokes': 461,\n",
       " 'gore': 462,\n",
       " 'hours': 463,\n",
       " 'known': 464,\n",
       " 'although': 465,\n",
       " 'opening': 466,\n",
       " 'writer': 467,\n",
       " 'possible': 468,\n",
       " 'slow': 469,\n",
       " 'saying': 470,\n",
       " 'cut': 471,\n",
       " 'order': 472,\n",
       " 'sad': 473,\n",
       " 'talent': 474,\n",
       " 'number': 475,\n",
       " 'cinematography': 476,\n",
       " 'huge': 477,\n",
       " 'english': 478,\n",
       " 'hero': 479,\n",
       " 'usually': 480,\n",
       " 'career': 481,\n",
       " 'wish': 482,\n",
       " 'relationship': 483,\n",
       " 'shots': 484,\n",
       " 'annoying': 485,\n",
       " 'age': 486,\n",
       " 'etc': 487,\n",
       " 'ridiculous': 488,\n",
       " 'hit': 489,\n",
       " 'running': 490,\n",
       " 'brother': 491,\n",
       " 'or': 492,\n",
       " 'started': 493,\n",
       " 'change': 494,\n",
       " 'ends': 495,\n",
       " 'view': 496,\n",
       " 'major': 497,\n",
       " 'usual': 498,\n",
       " 'taking': 499,\n",
       " 'more': 500,\n",
       " 'body': 501,\n",
       " 'important': 502,\n",
       " 'female': 503,\n",
       " 'words': 504,\n",
       " 'opinion': 505,\n",
       " 'silly': 506,\n",
       " 'power': 507,\n",
       " 'knows': 508,\n",
       " 'somewhat': 509,\n",
       " 'knew': 510,\n",
       " 'disappointed': 511,\n",
       " 'directors': 512,\n",
       " 'was': 513,\n",
       " 'scary': 514,\n",
       " 'novel': 515,\n",
       " 'apparently': 516,\n",
       " 'attention': 517,\n",
       " 'turned': 518,\n",
       " 'husband': 519,\n",
       " 'strange': 520,\n",
       " 'level': 521,\n",
       " 'documentary': 522,\n",
       " 'word': 523,\n",
       " 'talking': 524,\n",
       " 'happy': 525,\n",
       " 'rating': 526,\n",
       " 'clearly': 527,\n",
       " 'country': 528,\n",
       " 'finds': 529,\n",
       " 'basically': 530,\n",
       " 'whats': 531,\n",
       " 'television': 532,\n",
       " 'problems': 533,\n",
       " 'arent': 534,\n",
       " 'episodes': 535,\n",
       " 'room': 536,\n",
       " 'musical': 537,\n",
       " 'cheap': 538,\n",
       " 'local': 539,\n",
       " 'though': 540,\n",
       " 'british': 541,\n",
       " 'jack': 542,\n",
       " 'talk': 543,\n",
       " 'miss': 544,\n",
       " 'be': 545,\n",
       " 'sequence': 546,\n",
       " 'events': 547,\n",
       " 'single': 548,\n",
       " 'thriller': 549,\n",
       " 'predictable': 550,\n",
       " 'modern': 551,\n",
       " 'songs': 552,\n",
       " 'tells': 553,\n",
       " 'other': 554,\n",
       " 'french': 555,\n",
       " 'review': 556,\n",
       " 'entertainment': 557,\n",
       " 'light': 558,\n",
       " 'sets': 559,\n",
       " 'future': 560,\n",
       " 'enjoyable': 561,\n",
       " 'add': 562,\n",
       " 'dialog': 563,\n",
       " 'lots': 564,\n",
       " 'easily': 565,\n",
       " 'bring': 566,\n",
       " 'soundtrack': 567,\n",
       " 'appears': 568,\n",
       " 'similar': 569,\n",
       " 'havent': 570,\n",
       " 'another': 571,\n",
       " 'much': 572,\n",
       " 'needs': 573,\n",
       " 'surprised': 574,\n",
       " 'falls': 575,\n",
       " 'b': 576,\n",
       " 'giving': 577,\n",
       " 'supporting': 578,\n",
       " 'hate': 579,\n",
       " 'mention': 580,\n",
       " 'earth': 581,\n",
       " 'storyline': 582,\n",
       " 'certain': 583,\n",
       " 'team': 584,\n",
       " 'did': 585,\n",
       " 'romantic': 586,\n",
       " 'viewers': 587,\n",
       " 'who': 588,\n",
       " 'anyway': 589,\n",
       " 'message': 590,\n",
       " 'clear': 591,\n",
       " 'moving': 592,\n",
       " 'filmed': 593,\n",
       " 'tried': 594,\n",
       " 'parents': 595,\n",
       " 'george': 596,\n",
       " 'bunch': 597,\n",
       " 'king': 598,\n",
       " 'comic': 599,\n",
       " 'most': 600,\n",
       " 'theme': 601,\n",
       " 'space': 602,\n",
       " 'showing': 603,\n",
       " 'see': 604,\n",
       " 'sequel': 605,\n",
       " 'sorry': 606,\n",
       " 'an': 607,\n",
       " 'dull': 608,\n",
       " 'theater': 609,\n",
       " 'stay': 610,\n",
       " 'feels': 611,\n",
       " 'by': 612,\n",
       " 'dr': 613,\n",
       " 'suspense': 614,\n",
       " 'fall': 615,\n",
       " 'ways': 616,\n",
       " 'release': 617,\n",
       " 'deal': 618,\n",
       " 'middle': 619,\n",
       " 'named': 620,\n",
       " 'effort': 621,\n",
       " 'easy': 622,\n",
       " 'gone': 623,\n",
       " 'comments': 624,\n",
       " 'monster': 625,\n",
       " 'buy': 626,\n",
       " 'avoid': 627,\n",
       " 'about': 628,\n",
       " 'typical': 629,\n",
       " 'kept': 630,\n",
       " 'nearly': 631,\n",
       " 'near': 632,\n",
       " 'actual': 633,\n",
       " 'doubt': 634,\n",
       " 'means': 635,\n",
       " 'fantastic': 636,\n",
       " 'greatest': 637,\n",
       " 'editing': 638,\n",
       " 'subject': 639,\n",
       " 'working': 640,\n",
       " 'these': 641,\n",
       " 'elements': 642,\n",
       " 'realistic': 643,\n",
       " 'richard': 644,\n",
       " 'points': 645,\n",
       " 'viewing': 646,\n",
       " 'tale': 647,\n",
       " 'die': 648,\n",
       " 'us': 649,\n",
       " 'imagine': 650,\n",
       " 'rock': 651,\n",
       " 'minute': 652,\n",
       " 'okay': 653,\n",
       " 'straight': 654,\n",
       " 'brought': 655,\n",
       " 'boys': 656,\n",
       " 'lady': 657,\n",
       " 'believable': 658,\n",
       " 'class': 659,\n",
       " 'mystery': 660,\n",
       " 'check': 661,\n",
       " 'famous': 662,\n",
       " 'form': 663,\n",
       " 'begins': 664,\n",
       " 'made': 665,\n",
       " 'forget': 666,\n",
       " 'reviews': 667,\n",
       " 'sister': 668,\n",
       " 'th': 669,\n",
       " 'material': 670,\n",
       " 'feature': 671,\n",
       " 'peter': 672,\n",
       " 'before': 673,\n",
       " 'nothing': 674,\n",
       " 'leads': 675,\n",
       " 'youve': 676,\n",
       " 'period': 677,\n",
       " 'crime': 678,\n",
       " 'general': 679,\n",
       " 'rent': 680,\n",
       " 'hear': 681,\n",
       " 'animation': 682,\n",
       " 'surprise': 683,\n",
       " 'dog': 684,\n",
       " 'premise': 685,\n",
       " 'expected': 686,\n",
       " 'eventually': 687,\n",
       " 'learn': 688,\n",
       " 'weak': 689,\n",
       " 'particular': 690,\n",
       " 'sequences': 691,\n",
       " 'paul': 692,\n",
       " 'fast': 693,\n",
       " 'eye': 694,\n",
       " 'tom': 695,\n",
       " 'situation': 696,\n",
       " 'figure': 697,\n",
       " 'killing': 698,\n",
       " 'wait': 699,\n",
       " 'atmosphere': 700,\n",
       " 'difficult': 701,\n",
       " 'york': 702,\n",
       " 'very': 703,\n",
       " 'average': 704,\n",
       " 'shame': 705,\n",
       " 'decided': 706,\n",
       " 'imdb': 707,\n",
       " 'deep': 708,\n",
       " 'sit': 709,\n",
       " 'follow': 710,\n",
       " 'scifi': 711,\n",
       " 'whos': 712,\n",
       " 'crew': 713,\n",
       " 'truth': 714,\n",
       " 'lame': 715,\n",
       " 'red': 716,\n",
       " 'romance': 717,\n",
       " 'poorly': 718,\n",
       " 'ever': 719,\n",
       " 'leaves': 720,\n",
       " 'footage': 721,\n",
       " 'memorable': 722,\n",
       " 'forced': 723,\n",
       " 'doctor': 724,\n",
       " 'writers': 725,\n",
       " 'season': 726,\n",
       " 'dance': 727,\n",
       " 'needed': 728,\n",
       " 'open': 729,\n",
       " 'question': 730,\n",
       " 'begin': 731,\n",
       " 'hands': 732,\n",
       " 'note': 733,\n",
       " 'emotional': 734,\n",
       " 'possibly': 735,\n",
       " 'meet': 736,\n",
       " 'society': 737,\n",
       " 'reading': 738,\n",
       " 'credits': 739,\n",
       " 'western': 740,\n",
       " 'stand': 741,\n",
       " 'oscar': 742,\n",
       " 'hot': 743,\n",
       " 'features': 744,\n",
       " 'plus': 745,\n",
       " 'sexual': 746,\n",
       " 'cheesy': 747,\n",
       " 'nature': 748,\n",
       " 'interested': 749,\n",
       " 'gay': 750,\n",
       " 'personal': 751,\n",
       " 'total': 752,\n",
       " 'beauty': 753,\n",
       " 'write': 754,\n",
       " 'perfectly': 755,\n",
       " 'meets': 756,\n",
       " 'island': 757,\n",
       " 'screenplay': 758,\n",
       " 'comment': 759,\n",
       " 'previous': 760,\n",
       " 'masterpiece': 761,\n",
       " 'sounds': 762,\n",
       " 'filmmakers': 763,\n",
       " 'quickly': 764,\n",
       " 'superb': 765,\n",
       " 'street': 766,\n",
       " 'inside': 767,\n",
       " 'worked': 768,\n",
       " 'two': 769,\n",
       " 'weird': 770,\n",
       " 'male': 771,\n",
       " 'japanese': 772,\n",
       " 'laughs': 773,\n",
       " 'keeps': 774,\n",
       " 'result': 775,\n",
       " 'badly': 776,\n",
       " 'effect': 777,\n",
       " 'stage': 778,\n",
       " 'box': 779,\n",
       " 'only': 780,\n",
       " 'earlier': 781,\n",
       " 'unique': 782,\n",
       " 'brings': 783,\n",
       " 'america': 784,\n",
       " 'mark': 785,\n",
       " 'copy': 786,\n",
       " 'crazy': 787,\n",
       " 'air': 788,\n",
       " 'background': 789,\n",
       " 'battle': 790,\n",
       " 'free': 791,\n",
       " 'business': 792,\n",
       " 'setting': 793,\n",
       " 'realize': 794,\n",
       " 'incredibly': 795,\n",
       " 'mess': 796,\n",
       " 'joe': 797,\n",
       " 'lee': 798,\n",
       " 'back': 799,\n",
       " 'ask': 800,\n",
       " 'dumb': 801,\n",
       " 'creepy': 802,\n",
       " 'directing': 803,\n",
       " 'appear': 804,\n",
       " 'baby': 805,\n",
       " 'following': 806,\n",
       " 'older': 807,\n",
       " 'powerful': 808,\n",
       " 'development': 809,\n",
       " 'joke': 810,\n",
       " 'plenty': 811,\n",
       " 'wasted': 812,\n",
       " 'acted': 813,\n",
       " 'portrayed': 814,\n",
       " 'off': 815,\n",
       " 'apart': 816,\n",
       " 'leading': 817,\n",
       " 'forward': 818,\n",
       " 'dramatic': 819,\n",
       " 'fairly': 820,\n",
       " 'reasons': 821,\n",
       " 'water': 822,\n",
       " 'rich': 823,\n",
       " 'outside': 824,\n",
       " 'deserves': 825,\n",
       " 'remake': 826,\n",
       " 'meant': 827,\n",
       " 'success': 828,\n",
       " 'admit': 829,\n",
       " 'fails': 830,\n",
       " 'political': 831,\n",
       " 'pay': 832,\n",
       " 'ideas': 833,\n",
       " 'expecting': 834,\n",
       " 'manages': 835,\n",
       " 'girlfriend': 836,\n",
       " 'return': 837,\n",
       " 'spent': 838,\n",
       " 'attempts': 839,\n",
       " 'dream': 840,\n",
       " 'create': 841,\n",
       " 'secret': 842,\n",
       " 'still': 843,\n",
       " 'e': 844,\n",
       " 'really': 845,\n",
       " 'cover': 846,\n",
       " 'zombie': 847,\n",
       " 'either': 848,\n",
       " 'missing': 849,\n",
       " 'william': 850,\n",
       " 'match': 851,\n",
       " 'everything': 852,\n",
       " 'party': 853,\n",
       " 'are': 854,\n",
       " 'unlike': 855,\n",
       " 'd': 856,\n",
       " 'agree': 857,\n",
       " 'cop': 858,\n",
       " 'caught': 859,\n",
       " 'recently': 860,\n",
       " 'cute': 861,\n",
       " 'hardly': 862,\n",
       " 'large': 863,\n",
       " 'fighting': 864,\n",
       " 'potential': 865,\n",
       " 'disney': 866,\n",
       " 'once': 867,\n",
       " 'yet': 868,\n",
       " 'perhaps': 869,\n",
       " 'present': 870,\n",
       " 'twist': 871,\n",
       " 'telling': 872,\n",
       " 'escape': 873,\n",
       " 'pace': 874,\n",
       " 'era': 875,\n",
       " 'talented': 876,\n",
       " 'plain': 877,\n",
       " 'ended': 878,\n",
       " 'members': 879,\n",
       " 'clever': 880,\n",
       " 'list': 881,\n",
       " 'pure': 882,\n",
       " 'brothers': 883,\n",
       " 'missed': 884,\n",
       " 'break': 885,\n",
       " 'nudity': 886,\n",
       " 'something': 887,\n",
       " 'go': 888,\n",
       " 'gun': 889,\n",
       " 'german': 890,\n",
       " 'casting': 891,\n",
       " 'married': 892,\n",
       " 'incredible': 893,\n",
       " 'odd': 894,\n",
       " 'created': 895,\n",
       " 'hold': 896,\n",
       " 'fantasy': 897,\n",
       " 'villain': 898,\n",
       " 'laughing': 899,\n",
       " 'van': 900,\n",
       " 'visual': 901,\n",
       " 'italian': 902,\n",
       " 'waiting': 903,\n",
       " 'died': 904,\n",
       " 'cartoon': 905,\n",
       " 'slightly': 906,\n",
       " 'bill': 907,\n",
       " 'public': 908,\n",
       " 'popular': 909,\n",
       " 'cause': 910,\n",
       " 'sadly': 911,\n",
       " 'considering': 912,\n",
       " 'mentioned': 913,\n",
       " 'familiar': 914,\n",
       " 'sees': 915,\n",
       " 't': 916,\n",
       " 'entirely': 917,\n",
       " 'speak': 918,\n",
       " 'produced': 919,\n",
       " 'together': 920,\n",
       " 'company': 921,\n",
       " 'uses': 922,\n",
       " 'audiences': 923,\n",
       " 'convincing': 924,\n",
       " 'producers': 925,\n",
       " 'wrote': 926,\n",
       " 'flat': 927,\n",
       " 'state': 928,\n",
       " 'bored': 929,\n",
       " 'credit': 930,\n",
       " 'compared': 931,\n",
       " 'train': 932,\n",
       " 'follows': 933,\n",
       " 'portrayal': 934,\n",
       " 'common': 935,\n",
       " 'value': 936,\n",
       " 'store': 937,\n",
       " 'moves': 938,\n",
       " 'office': 939,\n",
       " 'trouble': 940,\n",
       " 'decides': 941,\n",
       " 'fit': 942,\n",
       " 'situations': 943,\n",
       " 'images': 944,\n",
       " 'suddenly': 945,\n",
       " 'la': 946,\n",
       " 'language': 947,\n",
       " 'rate': 948,\n",
       " 'choice': 949,\n",
       " 'fear': 950,\n",
       " 'sweet': 951,\n",
       " 'intelligent': 952,\n",
       " 'century': 953,\n",
       " 'appreciate': 954,\n",
       " 'dancing': 955,\n",
       " 'younger': 956,\n",
       " 'alive': 957,\n",
       " 'college': 958,\n",
       " 'biggest': 959,\n",
       " 'science': 960,\n",
       " 'tension': 961,\n",
       " 'pointless': 962,\n",
       " 'every': 963,\n",
       " 'social': 964,\n",
       " 'violent': 965,\n",
       " 'project': 966,\n",
       " 'spend': 967,\n",
       " 'band': 968,\n",
       " 'longer': 969,\n",
       " 'force': 970,\n",
       " 'over': 971,\n",
       " 'decide': 972,\n",
       " 'successful': 973,\n",
       " 'kills': 974,\n",
       " 'exciting': 975,\n",
       " 'bizarre': 976,\n",
       " 'recommended': 977,\n",
       " 'concept': 978,\n",
       " 'ultimately': 979,\n",
       " 'yeah': 980,\n",
       " 'many': 981,\n",
       " 'effective': 982,\n",
       " 'sick': 983,\n",
       " 'filled': 984,\n",
       " 'hair': 985,\n",
       " 'spirit': 986,\n",
       " 'cold': 987,\n",
       " 'scott': 988,\n",
       " 'amusing': 989,\n",
       " 'impressive': 990,\n",
       " 'basic': 991,\n",
       " 'pathetic': 992,\n",
       " 'werent': 993,\n",
       " 'depth': 994,\n",
       " 'consider': 995,\n",
       " 'focus': 996,\n",
       " 'mad': 997,\n",
       " 'showed': 998,\n",
       " 'questions': 999,\n",
       " 'recent': 1000,\n",
       " ...}"
      ]
     },
     "execution_count": 16,
     "metadata": {},
     "output_type": "execute_result"
    }
   ],
   "source": [
    "tokenizer.word_index"
   ]
  },
  {
   "cell_type": "code",
   "execution_count": 17,
   "metadata": {},
   "outputs": [],
   "source": [
    "word_counts = tokenizer.word_counts"
   ]
  },
  {
   "cell_type": "code",
   "execution_count": 18,
   "metadata": {},
   "outputs": [
    {
     "name": "stdout",
     "output_type": "stream",
     "text": [
      "16197\n"
     ]
    }
   ],
   "source": [
    "print(word_counts['great'])"
   ]
  },
  {
   "cell_type": "code",
   "execution_count": 19,
   "metadata": {},
   "outputs": [
    {
     "name": "stdout",
     "output_type": "stream",
     "text": [
      "77335\n"
     ]
    }
   ],
   "source": [
    "print(word_counts['movie'])"
   ]
  },
  {
   "cell_type": "code",
   "execution_count": 20,
   "metadata": {
    "colab": {
     "base_uri": "https://localhost:8080/"
    },
    "id": "grOxjn5CQbxT",
    "outputId": "44a0d49a-6117-45b6-9d50-d8bc4b3a9e50"
   },
   "outputs": [
    {
     "data": {
      "text/plain": [
       "141695"
      ]
     },
     "execution_count": 20,
     "metadata": {},
     "output_type": "execute_result"
    }
   ],
   "source": [
    "len(tokenizer.word_index)"
   ]
  },
  {
   "cell_type": "markdown",
   "metadata": {
    "id": "CW0K-jahRXKL"
   },
   "source": [
    "GloVe Embeddings"
   ]
  },
  {
   "cell_type": "code",
   "execution_count": 21,
   "metadata": {
    "id": "dbQD1kFfQnGJ"
   },
   "outputs": [],
   "source": [
    "#get embbedings for these words\n",
    "#glove vectors\n",
    "#dictionary with word and corresponding word vector as key, value pair\n",
    "embeddings_index = dict()\n",
    "glove=open('glove.6B.100d.txt','r',encoding='utf-8')\n",
    "for line in glove:\n",
    "  values=line.split()\n",
    "  word=values[0]\n",
    "  coefs=np.asarray(values[1:],dtype='float32')\n",
    "  embeddings_index[word]=coefs\n",
    "\n",
    "glove.close()"
   ]
  },
  {
   "cell_type": "code",
   "execution_count": 22,
   "metadata": {
    "colab": {
     "base_uri": "https://localhost:8080/"
    },
    "id": "2uPGanMaT1Sr",
    "outputId": "86ed33e0-c5fb-4b74-ba8b-2fc8ae0fc2bc"
   },
   "outputs": [
    {
     "data": {
      "text/plain": [
       "400000"
      ]
     },
     "execution_count": 22,
     "metadata": {},
     "output_type": "execute_result"
    }
   ],
   "source": [
    "len(embeddings_index)"
   ]
  },
  {
   "cell_type": "code",
   "execution_count": 23,
   "metadata": {
    "colab": {
     "base_uri": "https://localhost:8080/"
    },
    "id": "7IuVzhG8YkL7",
    "outputId": "e7e4d370-e460-4bbd-b7e3-bfb64e9d72be"
   },
   "outputs": [
    {
     "data": {
      "text/plain": [
       "(100,)"
      ]
     },
     "execution_count": 23,
     "metadata": {},
     "output_type": "execute_result"
    }
   ],
   "source": [
    "coefs.shape"
   ]
  },
  {
   "cell_type": "code",
   "execution_count": 24,
   "metadata": {
    "colab": {
     "base_uri": "https://localhost:8080/"
    },
    "id": "cLUyO9NWYl8t",
    "outputId": "26ca54f5-5088-43d3-e99a-d808d6a964aa"
   },
   "outputs": [
    {
     "data": {
      "text/plain": [
       "100"
      ]
     },
     "execution_count": 24,
     "metadata": {},
     "output_type": "execute_result"
    }
   ],
   "source": [
    "len(coefs)"
   ]
  },
  {
   "cell_type": "code",
   "execution_count": 25,
   "metadata": {
    "id": "ti-eQ1D0Ynhr"
   },
   "outputs": [],
   "source": [
    "vocab=len(tokenizer.word_index)+1\n",
    "embedding_matrix = np.zeros((vocab,100))\n",
    "for word, i in tokenizer.word_index.items():\n",
    "    embedding_vector = embeddings_index.get(word)\n",
    "    if embedding_vector is not None:\n",
    "        embedding_matrix[i] = embedding_vector"
   ]
  },
  {
   "cell_type": "code",
   "execution_count": 26,
   "metadata": {
    "colab": {
     "base_uri": "https://localhost:8080/"
    },
    "id": "z9zCzZeGZPcX",
    "outputId": "9777de28-f1e3-4816-dc89-237e522c4134"
   },
   "outputs": [
    {
     "data": {
      "text/plain": [
       "(141696, 100)"
      ]
     },
     "execution_count": 26,
     "metadata": {},
     "output_type": "execute_result"
    }
   ],
   "source": [
    "embedding_matrix.shape"
   ]
  },
  {
   "cell_type": "markdown",
   "metadata": {
    "id": "v138PiO0Zg01"
   },
   "source": [
    "RNN with GloVe embeddings"
   ]
  },
  {
   "cell_type": "code",
   "execution_count": 27,
   "metadata": {
    "id": "eh7SVxz7ZV0r"
   },
   "outputs": [],
   "source": [
    "train_indices=tokenizer.texts_to_sequences(train_text)"
   ]
  },
  {
   "cell_type": "code",
   "execution_count": 28,
   "metadata": {
    "colab": {
     "base_uri": "https://localhost:8080/"
    },
    "id": "8ComH6LkZzud",
    "outputId": "86f642e6-a75a-4964-c533-07c2fbfd1303"
   },
   "outputs": [
    {
     "data": {
      "text/plain": [
       "[[60,\n",
       "  1826,\n",
       "  913,\n",
       "  47,\n",
       "  2842,\n",
       "  256,\n",
       "  321,\n",
       "  3021,\n",
       "  88,\n",
       "  84,\n",
       "  460,\n",
       "  436,\n",
       "  202,\n",
       "  3,\n",
       "  48,\n",
       "  3174,\n",
       "  2842,\n",
       "  5290,\n",
       "  1,\n",
       "  42,\n",
       "  434,\n",
       "  150,\n",
       "  84,\n",
       "  523,\n",
       "  888,\n",
       "  1564,\n",
       "  1,\n",
       "  5571,\n",
       "  1,\n",
       "  8,\n",
       "  2319,\n",
       "  5684,\n",
       "  5229,\n",
       "  1300,\n",
       "  248,\n",
       "  434,\n",
       "  24,\n",
       "  3278,\n",
       "  213,\n",
       "  211,\n",
       "  523,\n",
       "  6,\n",
       "  336,\n",
       "  2842,\n",
       "  1,\n",
       "  215,\n",
       "  1,\n",
       "  6603,\n",
       "  2454,\n",
       "  928,\n",
       "  1,\n",
       "  6,\n",
       "  2532,\n",
       "  1260,\n",
       "  1,\n",
       "  390,\n",
       "  4621,\n",
       "  2325,\n",
       "  1028,\n",
       "  6490,\n",
       "  2809,\n",
       "  1,\n",
       "  259,\n",
       "  1,\n",
       "  1,\n",
       "  188,\n",
       "  4796,\n",
       "  3405,\n",
       "  390,\n",
       "  205,\n",
       "  981,\n",
       "  1,\n",
       "  7808,\n",
       "  1,\n",
       "  1,\n",
       "  4836,\n",
       "  7744,\n",
       "  2282,\n",
       "  500,\n",
       "  83,\n",
       "  1,\n",
       "  191,\n",
       "  1,\n",
       "  7022,\n",
       "  1,\n",
       "  1,\n",
       "  1,\n",
       "  106,\n",
       "  113,\n",
       "  2,\n",
       "  143,\n",
       "  1144,\n",
       "  75,\n",
       "  133,\n",
       "  128,\n",
       "  417,\n",
       "  2979,\n",
       "  666,\n",
       "  69,\n",
       "  1118,\n",
       "  4262,\n",
       "  2371,\n",
       "  923,\n",
       "  666,\n",
       "  1265,\n",
       "  666,\n",
       "  717,\n",
       "  2842,\n",
       "  50,\n",
       "  796,\n",
       "  1563,\n",
       "  3,\n",
       "  256,\n",
       "  2,\n",
       "  93,\n",
       "  3174,\n",
       "  1426,\n",
       "  2083,\n",
       "  2,\n",
       "  2,\n",
       "  1416,\n",
       "  2,\n",
       "  146,\n",
       "  2,\n",
       "  1349,\n",
       "  1123,\n",
       "  2842,\n",
       "  74,\n",
       "  1,\n",
       "  188,\n",
       "  1912,\n",
       "  2038,\n",
       "  434,\n",
       "  82,\n",
       "  434,\n",
       "  7328,\n",
       "  6794,\n",
       "  4717,\n",
       "  1,\n",
       "  2818,\n",
       "  1,\n",
       "  6433,\n",
       "  1,\n",
       "  360,\n",
       "  472,\n",
       "  113,\n",
       "  1,\n",
       "  619,\n",
       "  659,\n",
       "  6433,\n",
       "  518,\n",
       "  1028,\n",
       "  1,\n",
       "  414,\n",
       "  766,\n",
       "  1847,\n",
       "  1028,\n",
       "  401,\n",
       "  47,\n",
       "  2842,\n",
       "  3545,\n",
       "  3103,\n",
       "  646,\n",
       "  65,\n",
       "  1043,\n",
       "  3928,\n",
       "  2433],\n",
       " [26,\n",
       "  254,\n",
       "  34,\n",
       "  221,\n",
       "  3,\n",
       "  1187,\n",
       "  2765,\n",
       "  1,\n",
       "  1,\n",
       "  1467,\n",
       "  262,\n",
       "  1,\n",
       "  1,\n",
       "  145,\n",
       "  1714,\n",
       "  297,\n",
       "  268,\n",
       "  3,\n",
       "  49,\n",
       "  408,\n",
       "  2140,\n",
       "  361,\n",
       "  4314,\n",
       "  2372,\n",
       "  74,\n",
       "  1,\n",
       "  2088,\n",
       "  3175,\n",
       "  62,\n",
       "  223,\n",
       "  1,\n",
       "  638,\n",
       "  1,\n",
       "  1683,\n",
       "  1569,\n",
       "  7088,\n",
       "  6340,\n",
       "  140,\n",
       "  47,\n",
       "  1,\n",
       "  296,\n",
       "  2230,\n",
       "  268,\n",
       "  26,\n",
       "  4263,\n",
       "  221,\n",
       "  13,\n",
       "  3089,\n",
       "  86,\n",
       "  35,\n",
       "  3,\n",
       "  1714,\n",
       "  135,\n",
       "  205,\n",
       "  34,\n",
       "  66,\n",
       "  897,\n",
       "  2766,\n",
       "  211,\n",
       "  2028,\n",
       "  840,\n",
       "  2945,\n",
       "  1099,\n",
       "  1012,\n",
       "  4837,\n",
       "  6,\n",
       "  158,\n",
       "  1706,\n",
       "  4241,\n",
       "  439,\n",
       "  42,\n",
       "  3486,\n",
       "  1,\n",
       "  1,\n",
       "  559,\n",
       "  439,\n",
       "  927,\n",
       "  1,\n",
       "  1,\n",
       "  1,\n",
       "  2190,\n",
       "  1789,\n",
       "  1137]]"
      ]
     },
     "execution_count": 28,
     "metadata": {},
     "output_type": "execute_result"
    }
   ],
   "source": [
    "train_indices[0:2]"
   ]
  },
  {
   "cell_type": "code",
   "execution_count": 29,
   "metadata": {
    "id": "YryOst67Z3zK"
   },
   "outputs": [],
   "source": [
    "#fixing sentence size to 80. Padding if lesser, truncating if more\n",
    "from tensorflow.keras.preprocessing.sequence import pad_sequences\n",
    "max_length = 80\n",
    "train_indices=pad_sequences(train_indices, maxlen=max_length, padding='post')"
   ]
  },
  {
   "cell_type": "code",
   "execution_count": 30,
   "metadata": {
    "colab": {
     "base_uri": "https://localhost:8080/"
    },
    "id": "5OSoYQuZaZ9t",
    "outputId": "7673e390-8c52-475e-e352-a21841ec5211"
   },
   "outputs": [
    {
     "data": {
      "text/plain": [
       "array([[ 106,  113,    2,  143, 1144,   75,  133,  128,  417, 2979,  666,\n",
       "          69, 1118, 4262, 2371,  923,  666, 1265,  666,  717, 2842,   50,\n",
       "         796, 1563,    3,  256,    2,   93, 3174, 1426, 2083,    2,    2,\n",
       "        1416,    2,  146,    2, 1349, 1123, 2842,   74,    1,  188, 1912,\n",
       "        2038,  434,   82,  434, 7328, 6794, 4717,    1, 2818,    1, 6433,\n",
       "           1,  360,  472,  113,    1,  619,  659, 6433,  518, 1028,    1,\n",
       "         414,  766, 1847, 1028,  401,   47, 2842, 3545, 3103,  646,   65,\n",
       "        1043, 3928, 2433],\n",
       "       [ 221,    3, 1187, 2765,    1,    1, 1467,  262,    1,    1,  145,\n",
       "        1714,  297,  268,    3,   49,  408, 2140,  361, 4314, 2372,   74,\n",
       "           1, 2088, 3175,   62,  223,    1,  638,    1, 1683, 1569, 7088,\n",
       "        6340,  140,   47,    1,  296, 2230,  268,   26, 4263,  221,   13,\n",
       "        3089,   86,   35,    3, 1714,  135,  205,   34,   66,  897, 2766,\n",
       "         211, 2028,  840, 2945, 1099, 1012, 4837,    6,  158, 1706, 4241,\n",
       "         439,   42, 3486,    1,    1,  559,  439,  927,    1,    1,    1,\n",
       "        2190, 1789, 1137]])"
      ]
     },
     "execution_count": 30,
     "metadata": {},
     "output_type": "execute_result"
    }
   ],
   "source": [
    "train_indices[0:2]"
   ]
  },
  {
   "cell_type": "code",
   "execution_count": 31,
   "metadata": {
    "colab": {
     "base_uri": "https://localhost:8080/"
    },
    "id": "KriHieLDagR_",
    "outputId": "ed2776e5-3e88-46e0-e42c-2041295af342"
   },
   "outputs": [
    {
     "data": {
      "text/plain": [
       "45000"
      ]
     },
     "execution_count": 31,
     "metadata": {},
     "output_type": "execute_result"
    }
   ],
   "source": [
    "len(train_indices)"
   ]
  },
  {
   "cell_type": "code",
   "execution_count": 32,
   "metadata": {
    "colab": {
     "base_uri": "https://localhost:8080/"
    },
    "id": "gNiH4m4Da15M",
    "outputId": "5d11f2f7-7876-45bf-9f01-d417bd436020"
   },
   "outputs": [
    {
     "name": "stdout",
     "output_type": "stream",
     "text": [
      "Model: \"sequential\"\n",
      "_________________________________________________________________\n",
      " Layer (type)                Output Shape              Param #   \n",
      "=================================================================\n",
      " embedding (Embedding)       (None, 80, 100)           14169600  \n",
      "                                                                 \n",
      " simple_rnn (SimpleRNN)      (None, 32)                4256      \n",
      "                                                                 \n",
      " dense (Dense)               (None, 1)                 33        \n",
      "                                                                 \n",
      "=================================================================\n",
      "Total params: 14,173,889\n",
      "Trainable params: 4,289\n",
      "Non-trainable params: 14,169,600\n",
      "_________________________________________________________________\n",
      "None\n"
     ]
    }
   ],
   "source": [
    "#creating model architecture\n",
    "RNNmodel = Sequential()\n",
    "RNNmodel.add(Embedding(input_dim=vocab,output_dim=100,input_length=max_length, weights=[embedding_matrix],trainable=False))\n",
    "RNNmodel.add(SimpleRNN(32))\n",
    "\n",
    "RNNmodel.add(Dense(1,activation='sigmoid'))\n",
    "RNNmodel.compile(loss='binary_crossentropy',optimizer='adam',metrics=['accuracy'])\n",
    "print(RNNmodel.summary())\n"
   ]
  },
  {
   "cell_type": "code",
   "execution_count": 33,
   "metadata": {
    "colab": {
     "base_uri": "https://localhost:8080/"
    },
    "id": "gHM8hpDzj-KF",
    "outputId": "f355f4c1-0384-427e-93ba-c5b9c95a1d91"
   },
   "outputs": [
    {
     "data": {
      "text/plain": [
       "1    25000\n",
       "0    25000\n",
       "Name: sentiment, dtype: int64"
      ]
     },
     "execution_count": 33,
     "metadata": {},
     "output_type": "execute_result"
    }
   ],
   "source": [
    "df['sentiment'].replace(['positive','negative'],[1,0],inplace=True)\n",
    "df['sentiment'].value_counts()"
   ]
  },
  {
   "cell_type": "code",
   "execution_count": 34,
   "metadata": {
    "colab": {
     "base_uri": "https://localhost:8080/"
    },
    "id": "MsIxFUEGeuEL",
    "outputId": "a6f82585-c711-4752-e6af-c42f2338c1a4"
   },
   "outputs": [
    {
     "name": "stdout",
     "output_type": "stream",
     "text": [
      "45000 5000\n"
     ]
    }
   ],
   "source": [
    "Y=list(df['sentiment'])\n",
    "train_y=Y[:len(Y)-5000]\n",
    "test_y=Y[-5000:]\n",
    "print(len(train_y),len(test_y))"
   ]
  },
  {
   "cell_type": "code",
   "execution_count": 35,
   "metadata": {
    "id": "P5QTxFgHgvv5"
   },
   "outputs": [],
   "source": [
    "train_indices=np.asarray(train_indices)\n",
    "train_y=np.asarray(train_y)"
   ]
  },
  {
   "cell_type": "code",
   "execution_count": 36,
   "metadata": {
    "colab": {
     "base_uri": "https://localhost:8080/"
    },
    "id": "Px3smsJOin9-",
    "outputId": "c8c55995-4193-4487-f3ab-455f8d642e0a"
   },
   "outputs": [
    {
     "data": {
      "text/plain": [
       "45000"
      ]
     },
     "execution_count": 36,
     "metadata": {},
     "output_type": "execute_result"
    }
   ],
   "source": [
    "len(train_indices)"
   ]
  },
  {
   "cell_type": "code",
   "execution_count": 37,
   "metadata": {
    "colab": {
     "base_uri": "https://localhost:8080/"
    },
    "id": "SCbiLMOOjlVE",
    "outputId": "716fe476-c3f1-46dc-cb03-1f2c41e289c8"
   },
   "outputs": [
    {
     "data": {
      "text/plain": [
       "45000"
      ]
     },
     "execution_count": 37,
     "metadata": {},
     "output_type": "execute_result"
    }
   ],
   "source": [
    "len(train_y)"
   ]
  },
  {
   "cell_type": "code",
   "execution_count": 38,
   "metadata": {
    "colab": {
     "base_uri": "https://localhost:8080/"
    },
    "id": "-U7_zKLHg6hQ",
    "outputId": "19b7ef45-f933-4e7f-f80d-35907a67795a"
   },
   "outputs": [
    {
     "name": "stdout",
     "output_type": "stream",
     "text": [
      "Epoch 1/10\n",
      "1407/1407 [==============================] - 21s 13ms/step - loss: 0.6722 - accuracy: 0.5727\n",
      "Epoch 2/10\n",
      "1407/1407 [==============================] - 18s 13ms/step - loss: 0.6643 - accuracy: 0.5834\n",
      "Epoch 3/10\n",
      "1407/1407 [==============================] - 18s 13ms/step - loss: 0.6554 - accuracy: 0.5972\n",
      "Epoch 4/10\n",
      "1407/1407 [==============================] - 17s 12ms/step - loss: 0.6407 - accuracy: 0.6240\n",
      "Epoch 5/10\n",
      "1407/1407 [==============================] - 17s 12ms/step - loss: 0.6353 - accuracy: 0.6326\n",
      "Epoch 6/10\n",
      "1407/1407 [==============================] - 17s 12ms/step - loss: 0.6489 - accuracy: 0.6147\n",
      "Epoch 7/10\n",
      "1407/1407 [==============================] - 17s 12ms/step - loss: 0.6655 - accuracy: 0.5812\n",
      "Epoch 8/10\n",
      "1407/1407 [==============================] - 17s 12ms/step - loss: 0.6717 - accuracy: 0.5655\n",
      "Epoch 9/10\n",
      "1407/1407 [==============================] - 17s 12ms/step - loss: 0.6423 - accuracy: 0.6185\n",
      "Epoch 10/10\n",
      "1407/1407 [==============================] - 18s 12ms/step - loss: 0.6044 - accuracy: 0.6808\n"
     ]
    },
    {
     "data": {
      "text/plain": [
       "<keras.callbacks.History at 0x22d074dd730>"
      ]
     },
     "execution_count": 38,
     "metadata": {},
     "output_type": "execute_result"
    }
   ],
   "source": [
    "RNNmodel.fit(train_indices,train_y,batch_size=32,epochs=10)"
   ]
  },
  {
   "cell_type": "code",
   "execution_count": 39,
   "metadata": {
    "id": "XasTh34hm1RI"
   },
   "outputs": [],
   "source": [
    "test_indices=tokenizer.texts_to_sequences(test_text)\n",
    "max_length=80\n",
    "test_indices=pad_sequences(test_indices, maxlen=max_length, padding='post')\n",
    "test_indices=np.asarray(test_indices)\n",
    "test_y=np.asarray(test_y)"
   ]
  },
  {
   "cell_type": "code",
   "execution_count": 40,
   "metadata": {
    "colab": {
     "base_uri": "https://localhost:8080/"
    },
    "id": "RQUN2zROhIWn",
    "outputId": "e1be6a32-57b2-47bd-f614-fd47fed8081e"
   },
   "outputs": [
    {
     "name": "stdout",
     "output_type": "stream",
     "text": [
      "Accuracy: 69.36%\n"
     ]
    }
   ],
   "source": [
    "scores = RNNmodel.evaluate(test_indices, test_y, verbose=0)\n",
    "print(\"Accuracy: %.2f%%\" % (scores[1]*100))"
   ]
  },
  {
   "cell_type": "code",
   "execution_count": 41,
   "metadata": {
    "colab": {
     "base_uri": "https://localhost:8080/"
    },
    "id": "Z87-yU1pnbic",
    "outputId": "581cfd5a-963c-4bc0-ab38-1e55726393f3"
   },
   "outputs": [
    {
     "data": {
      "text/plain": [
       "[0.6168180704116821, 0.6935999989509583]"
      ]
     },
     "execution_count": 41,
     "metadata": {},
     "output_type": "execute_result"
    }
   ],
   "source": [
    "scores"
   ]
  },
  {
   "cell_type": "markdown",
   "metadata": {},
   "source": [
    "LSTM with GloVe embeddings"
   ]
  },
  {
   "cell_type": "code",
   "execution_count": 57,
   "metadata": {},
   "outputs": [
    {
     "name": "stdout",
     "output_type": "stream",
     "text": [
      "Model: \"sequential_2\"\n",
      "_________________________________________________________________\n",
      " Layer (type)                Output Shape              Param #   \n",
      "=================================================================\n",
      " embedding_2 (Embedding)     (None, 80, 100)           14169600  \n",
      "                                                                 \n",
      " lstm_1 (LSTM)               (None, 32)                17024     \n",
      "                                                                 \n",
      " dense_2 (Dense)             (None, 1)                 33        \n",
      "                                                                 \n",
      "=================================================================\n",
      "Total params: 14,186,657\n",
      "Trainable params: 17,057\n",
      "Non-trainable params: 14,169,600\n",
      "_________________________________________________________________\n",
      "None\n"
     ]
    }
   ],
   "source": [
    "#creating model architecture\n",
    "LSTMmodel = Sequential()\n",
    "LSTMmodel.add(Embedding(input_dim=vocab,output_dim=100,input_length=max_length, weights=[embedding_matrix],trainable=False))\n",
    "LSTMmodel.add(LSTM(32))\n",
    "\n",
    "LSTMmodel.add(Dense(1,activation='sigmoid'))\n",
    "LSTMmodel.compile(loss='binary_crossentropy',optimizer='adam',metrics=['accuracy'])\n",
    "print(LSTMmodel.summary())"
   ]
  },
  {
   "cell_type": "code",
   "execution_count": 58,
   "metadata": {},
   "outputs": [
    {
     "name": "stdout",
     "output_type": "stream",
     "text": [
      "Epoch 1/10\n",
      "1407/1407 [==============================] - 219s 154ms/step - loss: 0.4749 - accuracy: 0.7713\n",
      "Epoch 2/10\n",
      "1407/1407 [==============================] - 233s 165ms/step - loss: 0.3725 - accuracy: 0.8351\n",
      "Epoch 3/10\n",
      "1407/1407 [==============================] - 304s 216ms/step - loss: 0.3422 - accuracy: 0.8524\n",
      "Epoch 4/10\n",
      "1407/1407 [==============================] - 370s 262ms/step - loss: 0.3220 - accuracy: 0.8621\n",
      "Epoch 5/10\n",
      "1407/1407 [==============================] - 305s 217ms/step - loss: 0.3058 - accuracy: 0.8717\n",
      "Epoch 6/10\n",
      "1407/1407 [==============================] - 338s 241ms/step - loss: 0.2916 - accuracy: 0.8782\n",
      "Epoch 7/10\n",
      "1407/1407 [==============================] - 307s 218ms/step - loss: 0.2798 - accuracy: 0.8836\n",
      "Epoch 8/10\n",
      "1407/1407 [==============================] - 270s 192ms/step - loss: 0.2653 - accuracy: 0.8914\n",
      "Epoch 9/10\n",
      "1407/1407 [==============================] - 249s 177ms/step - loss: 0.2548 - accuracy: 0.8967\n",
      "Epoch 10/10\n",
      "1407/1407 [==============================] - 267s 190ms/step - loss: 0.2478 - accuracy: 0.8996\n"
     ]
    },
    {
     "data": {
      "text/plain": [
       "<keras.callbacks.History at 0x22f8d1c9be0>"
      ]
     },
     "execution_count": 58,
     "metadata": {},
     "output_type": "execute_result"
    }
   ],
   "source": [
    "LSTMmodel.fit(train_indices,train_y,batch_size=32,epochs=10)"
   ]
  },
  {
   "cell_type": "code",
   "execution_count": 59,
   "metadata": {},
   "outputs": [
    {
     "name": "stdout",
     "output_type": "stream",
     "text": [
      "Accuracy: 85.74%\n"
     ]
    }
   ],
   "source": [
    "scores = LSTMmodel.evaluate(test_indices, test_y, verbose=0)\n",
    "print(\"Accuracy: %.2f%%\" % (scores[1]*100))"
   ]
  },
  {
   "cell_type": "code",
   "execution_count": 60,
   "metadata": {},
   "outputs": [
    {
     "data": {
      "text/plain": [
       "[0.337950199842453, 0.8574000000953674]"
      ]
     },
     "execution_count": 60,
     "metadata": {},
     "output_type": "execute_result"
    }
   ],
   "source": [
    "scores"
   ]
  }
 ],
 "metadata": {
  "colab": {
   "provenance": []
  },
  "kernelspec": {
   "display_name": "Python 3 (ipykernel)",
   "language": "python",
   "name": "python3"
  },
  "language_info": {
   "codemirror_mode": {
    "name": "ipython",
    "version": 3
   },
   "file_extension": ".py",
   "mimetype": "text/x-python",
   "name": "python",
   "nbconvert_exporter": "python",
   "pygments_lexer": "ipython3",
   "version": "3.9.13"
  }
 },
 "nbformat": 4,
 "nbformat_minor": 1
}
